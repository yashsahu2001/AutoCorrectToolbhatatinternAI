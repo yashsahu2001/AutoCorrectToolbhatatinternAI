{
 "cells": [
  {
   "cell_type": "code",
   "execution_count": 1,
   "id": "1b8d32ef",
   "metadata": {},
   "outputs": [
    {
     "name": "stdout",
     "output_type": "stream",
     "text": [
      "Collecting python-LevenshteinNote: you may need to restart the kernel to use updated packages.\n",
      "\n",
      "  Downloading python_Levenshtein-0.21.1-py3-none-any.whl (9.4 kB)\n",
      "Collecting Levenshtein==0.21.1\n",
      "  Downloading Levenshtein-0.21.1-cp39-cp39-win_amd64.whl (101 kB)\n",
      "     -------------------------------------- 101.0/101.0 kB 1.2 MB/s eta 0:00:00\n",
      "Collecting rapidfuzz<4.0.0,>=2.3.0\n",
      "  Downloading rapidfuzz-3.2.0-cp39-cp39-win_amd64.whl (1.8 MB)\n",
      "     ---------------------------------------- 1.8/1.8 MB 2.5 MB/s eta 0:00:00\n",
      "Installing collected packages: rapidfuzz, Levenshtein, python-Levenshtein\n",
      "Successfully installed Levenshtein-0.21.1 python-Levenshtein-0.21.1 rapidfuzz-3.2.0\n"
     ]
    }
   ],
   "source": [
    "pip install python-Levenshtein"
   ]
  },
  {
   "cell_type": "code",
   "execution_count": 2,
   "id": "7e4897ef",
   "metadata": {},
   "outputs": [
    {
     "name": "stdout",
     "output_type": "stream",
     "text": [
      "Corrected sentence: apple apple apple apple banana\n"
     ]
    }
   ],
   "source": [
    "import Levenshtein\n",
    "\n",
    "def find_closest_word(misspelled_word, word_list):\n",
    "    closest_word = min(word_list, key=lambda word: Levenshtein.distance(misspelled_word, word))\n",
    "    return closest_word\n",
    "\n",
    "def autocorrect_sentence(input_sentence, word_list):\n",
    "    words = input_sentence.split()\n",
    "    corrected_words = [find_closest_word(word, word_list) for word in words]\n",
    "    corrected_sentence = \" \".join(corrected_words)\n",
    "    return corrected_sentence\n",
    "\n",
    "# Example usage:\n",
    "word_list = [\"apple\", \"banana\", \"orange\", \"grape\", \"peach\"]\n",
    "input_sentence = \"I like aples and bananaz.\"\n",
    "\n",
    "corrected_sentence = autocorrect_sentence(input_sentence, word_list)\n",
    "print(f\"Corrected sentence: {corrected_sentence}\")"
   ]
  },
  {
   "cell_type": "code",
   "execution_count": null,
   "id": "c983e412",
   "metadata": {},
   "outputs": [],
   "source": []
  }
 ],
 "metadata": {
  "kernelspec": {
   "display_name": "Python 3 (ipykernel)",
   "language": "python",
   "name": "python3"
  },
  "language_info": {
   "codemirror_mode": {
    "name": "ipython",
    "version": 3
   },
   "file_extension": ".py",
   "mimetype": "text/x-python",
   "name": "python",
   "nbconvert_exporter": "python",
   "pygments_lexer": "ipython3",
   "version": "3.9.13"
  }
 },
 "nbformat": 4,
 "nbformat_minor": 5
}
